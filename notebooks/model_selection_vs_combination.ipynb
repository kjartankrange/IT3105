{
  "nbformat": 4,
  "nbformat_minor": 0,
  "metadata": {
    "colab": {
      "name": "model_selection_vs_combination",
      "provenance": [],
      "authorship_tag": "ABX9TyNnodVNFRvK1OKrN/UJ7PSt",
      "include_colab_link": true
    },
    "kernelspec": {
      "name": "python3",
      "display_name": "Python 3"
    },
    "language_info": {
      "name": "python"
    }
  },
  "cells": [
    {
      "cell_type": "markdown",
      "metadata": {
        "id": "view-in-github",
        "colab_type": "text"
      },
      "source": [
        "<a href=\"https://colab.research.google.com/github/kjartankrange/IT3105/blob/main/notebooks/model_selection_vs_combination.ipynb\" target=\"_parent\"><img src=\"https://colab.research.google.com/assets/colab-badge.svg\" alt=\"Open In Colab\"/></a>"
      ]
    },
    {
      "cell_type": "markdown",
      "source": [
        "#Setup"
      ],
      "metadata": {
        "id": "ys1iMcxK60ZS"
      }
    },
    {
      "cell_type": "markdown",
      "source": [
        "##Kernel setup"
      ],
      "metadata": {
        "id": "Rwo44VGZLhAo"
      }
    },
    {
      "cell_type": "code",
      "source": [
        "%load_ext autoreload\n",
        "%autoreload 2"
      ],
      "metadata": {
        "id": "hKuFzk7aEmB9"
      },
      "execution_count": 1,
      "outputs": []
    },
    {
      "cell_type": "code",
      "source": [
        "%%capture\n",
        "!git clone https://github.com/Krankile/npmf.git"
      ],
      "metadata": {
        "id": "91KPY7q0LUOw"
      },
      "execution_count": 2,
      "outputs": []
    },
    {
      "cell_type": "markdown",
      "source": [
        "##General setup"
      ],
      "metadata": {
        "id": "CLAlA0htLgMY"
      }
    },
    {
      "cell_type": "code",
      "source": [
        "%%capture\n",
        "!cd npmf && git pull\n",
        "from npmf.utils.colors import main,main2,main3"
      ],
      "metadata": {
        "id": "zGsSIhgXEkhz"
      },
      "execution_count": 3,
      "outputs": []
    },
    {
      "cell_type": "code",
      "source": [
        "#!pip install "
      ],
      "metadata": {
        "id": "PxObAoKALoYw"
      },
      "execution_count": 4,
      "outputs": []
    },
    {
      "cell_type": "code",
      "source": [
        "import numpy as np\n",
        "import matplotlib.pyplot as plt\n",
        "import matplotlib as mpl"
      ],
      "metadata": {
        "id": "1QSlgObXLq1p"
      },
      "execution_count": 18,
      "outputs": []
    },
    {
      "cell_type": "code",
      "source": [
        "mpl.rcParams['axes.prop_cycle'] = mpl.cycler(color=[main, main2, main3,\"black\"]) "
      ],
      "metadata": {
        "id": "EWAtbKAA815G"
      },
      "execution_count": 21,
      "outputs": []
    },
    {
      "cell_type": "markdown",
      "source": [
        "#  Create a visualisation to understand lower bound loss of model selection and model combination"
      ],
      "metadata": {
        "id": "IIXbtz2g665i"
      }
    },
    {
      "cell_type": "code",
      "source": [
        "x = np.linspace(0,1,1000)\n",
        "k = 1"
      ],
      "metadata": {
        "id": "gz1A8uBR648i"
      },
      "execution_count": 51,
      "outputs": []
    },
    {
      "cell_type": "code",
      "source": [
        "plt.ylim(0,2.1*k)\n",
        "plt.ylabel(\"$y$\")\n",
        "plt.xlabel(\"Time\")\n",
        "plt.plot(x, np.full(x.shape,.5*k), color=main)\n",
        "plt.plot(x, np.full(x.shape,.75*k), color=main, linestyle=\"--\", label=\"Model selection optimum\")\n",
        "plt.plot(x, np.full(x.shape,2*k), color=main2)\n",
        "plt.plot(x, np.full(x.shape,k), color=\"black\", linestyle=\"-.\", label=\"$y_{t+h}$ (target) AND model combination optimum\")\n",
        "plt.legend(frameon=False);"
      ],
      "metadata": {
        "colab": {
          "base_uri": "https://localhost:8080/",
          "height": 278
        },
        "id": "CsNQN2267LrU",
        "outputId": "b65426ff-124d-4d27-d3f6-62afa833be25"
      },
      "execution_count": 82,
      "outputs": [
        {
          "output_type": "display_data",
          "data": {
            "text/plain": [
              "<Figure size 432x288 with 1 Axes>"
            ],
            "image/png": "[encoded data removed]"
          },
          "metadata": {
            "needs_background": "light"
          }
        }
      ]
    }
  ]
}